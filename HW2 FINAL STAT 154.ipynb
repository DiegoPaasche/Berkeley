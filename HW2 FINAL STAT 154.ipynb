{
 "cells": [
  {
   "cell_type": "code",
   "execution_count": 1,
   "id": "6465632c",
   "metadata": {},
   "outputs": [
    {
     "data": {
      "text/html": [
       "<style type='text/css'>\n",
       ".datatable table.frame { margin-bottom: 0; }\n",
       ".datatable table.frame thead { border-bottom: none; }\n",
       ".datatable table.frame tr.coltypes td {  color: #FFFFFF;  line-height: 6px;  padding: 0 0.5em;}\n",
       ".datatable .bool    { background: #DDDD99; }\n",
       ".datatable .object  { background: #565656; }\n",
       ".datatable .int     { background: #5D9E5D; }\n",
       ".datatable .float   { background: #4040CC; }\n",
       ".datatable .str     { background: #CC4040; }\n",
       ".datatable .time    { background: #40CC40; }\n",
       ".datatable .row_index {  background: var(--jp-border-color3);  border-right: 1px solid var(--jp-border-color0);  color: var(--jp-ui-font-color3);  font-size: 9px;}\n",
       ".datatable .frame tbody td { text-align: left; }\n",
       ".datatable .frame tr.coltypes .row_index {  background: var(--jp-border-color0);}\n",
       ".datatable th:nth-child(2) { padding-left: 12px; }\n",
       ".datatable .hellipsis {  color: var(--jp-cell-editor-border-color);}\n",
       ".datatable .vellipsis {  background: var(--jp-layout-color0);  color: var(--jp-cell-editor-border-color);}\n",
       ".datatable .na {  color: var(--jp-cell-editor-border-color);  font-size: 80%;}\n",
       ".datatable .sp {  opacity: 0.25;}\n",
       ".datatable .footer { font-size: 9px; }\n",
       ".datatable .frame_dimensions {  background: var(--jp-border-color3);  border-top: 1px solid var(--jp-border-color0);  color: var(--jp-ui-font-color3);  display: inline-block;  opacity: 0.6;  padding: 1px 10px 1px 5px;}\n",
       "</style>\n"
      ],
      "text/plain": [
       "<IPython.core.display.HTML object>"
      ]
     },
     "metadata": {},
     "output_type": "display_data"
    }
   ],
   "source": [
    "import pandas as pd\n",
    "import numpy as np\n",
    "from os.path import join as oj\n",
    "import datatable as dt\n",
    "import matplotlib.pyplot as plt\n",
    "import seaborn as sns"
   ]
  },
  {
   "cell_type": "code",
   "execution_count": 2,
   "id": "b0ccc48a",
   "metadata": {},
   "outputs": [],
   "source": [
    "#If the session its loaded with the pkl file its not neccesary to run code until \"Feature importance and correlations\" section\n",
    "#This is highly recommended because the code gets 4 hours aprox to run.\n",
    "import dill\n",
    "filename = 'stat154_hw2.pkl'\n",
    "#dill.dump_session(filename)\n",
    "#dill.load_session(filename)"
   ]
  },
  {
   "cell_type": "markdown",
   "id": "9d6445b6",
   "metadata": {},
   "source": [
    "### Data Loading and visualization"
   ]
  },
  {
   "cell_type": "markdown",
   "id": "20430cb7",
   "metadata": {},
   "source": [
    "Load the data we are using to predict minimum annual temperature and average cloud density. "
   ]
  },
  {
   "cell_type": "code",
   "execution_count": 2,
   "id": "5843e36f",
   "metadata": {},
   "outputs": [],
   "source": [
    "snp_orig_dt = dt.fread(oj(\"869_NoCal_CR0.99.tagSNPs_BigLD0.70.txt\"))"
   ]
  },
  {
   "cell_type": "code",
   "execution_count": 3,
   "id": "8ba26611",
   "metadata": {},
   "outputs": [],
   "source": [
    "df = snp_orig_dt.to_pandas()"
   ]
  },
  {
   "cell_type": "code",
   "execution_count": 4,
   "id": "f884bd52",
   "metadata": {},
   "outputs": [
    {
     "data": {
      "text/html": [
       "<div>\n",
       "<style scoped>\n",
       "    .dataframe tbody tr th:only-of-type {\n",
       "        vertical-align: middle;\n",
       "    }\n",
       "\n",
       "    .dataframe tbody tr th {\n",
       "        vertical-align: top;\n",
       "    }\n",
       "\n",
       "    .dataframe thead th {\n",
       "        text-align: right;\n",
       "    }\n",
       "</style>\n",
       "<table border=\"1\" class=\"dataframe\">\n",
       "  <thead>\n",
       "    <tr style=\"text-align: right;\">\n",
       "      <th></th>\n",
       "      <th>FID</th>\n",
       "      <th>IID</th>\n",
       "      <th>PAT</th>\n",
       "      <th>MAT</th>\n",
       "      <th>SEX</th>\n",
       "      <th>PHENOTYPE</th>\n",
       "      <th>Chr01_8003_G</th>\n",
       "      <th>Chr01_11528_T</th>\n",
       "      <th>Chr01_13272_G</th>\n",
       "      <th>Chr01_20328_A</th>\n",
       "      <th>...</th>\n",
       "      <th>Chr19_15910732_A</th>\n",
       "      <th>Chr19_15918565_C</th>\n",
       "      <th>Chr19_15918732_T</th>\n",
       "      <th>Chr19_15919416_T</th>\n",
       "      <th>Chr19_15924615_G</th>\n",
       "      <th>Chr19_15924814_G</th>\n",
       "      <th>Chr19_15927152_C</th>\n",
       "      <th>Chr19_15931754_C</th>\n",
       "      <th>Chr19_15934532_G</th>\n",
       "      <th>Chr19_15937702_C</th>\n",
       "    </tr>\n",
       "  </thead>\n",
       "  <tbody>\n",
       "    <tr>\n",
       "      <th>0</th>\n",
       "      <td>BESC-418</td>\n",
       "      <td>BESC-418</td>\n",
       "      <td>False</td>\n",
       "      <td>False</td>\n",
       "      <td>False</td>\n",
       "      <td>-9</td>\n",
       "      <td>1.0</td>\n",
       "      <td>2.0</td>\n",
       "      <td>2.0</td>\n",
       "      <td>2.0</td>\n",
       "      <td>...</td>\n",
       "      <td>2</td>\n",
       "      <td>2.0</td>\n",
       "      <td>2.0</td>\n",
       "      <td>2</td>\n",
       "      <td>2.0</td>\n",
       "      <td>2.0</td>\n",
       "      <td>2.0</td>\n",
       "      <td>2.0</td>\n",
       "      <td>1.0</td>\n",
       "      <td>2.0</td>\n",
       "    </tr>\n",
       "    <tr>\n",
       "      <th>1</th>\n",
       "      <td>BESC-52</td>\n",
       "      <td>BESC-52</td>\n",
       "      <td>False</td>\n",
       "      <td>False</td>\n",
       "      <td>False</td>\n",
       "      <td>-9</td>\n",
       "      <td>2.0</td>\n",
       "      <td>1.0</td>\n",
       "      <td>2.0</td>\n",
       "      <td>2.0</td>\n",
       "      <td>...</td>\n",
       "      <td>2</td>\n",
       "      <td>2.0</td>\n",
       "      <td>2.0</td>\n",
       "      <td>2</td>\n",
       "      <td>2.0</td>\n",
       "      <td>2.0</td>\n",
       "      <td>2.0</td>\n",
       "      <td>2.0</td>\n",
       "      <td>2.0</td>\n",
       "      <td>2.0</td>\n",
       "    </tr>\n",
       "    <tr>\n",
       "      <th>2</th>\n",
       "      <td>BESC-79</td>\n",
       "      <td>BESC-79</td>\n",
       "      <td>False</td>\n",
       "      <td>False</td>\n",
       "      <td>False</td>\n",
       "      <td>-9</td>\n",
       "      <td>2.0</td>\n",
       "      <td>1.0</td>\n",
       "      <td>NaN</td>\n",
       "      <td>2.0</td>\n",
       "      <td>...</td>\n",
       "      <td>2</td>\n",
       "      <td>2.0</td>\n",
       "      <td>2.0</td>\n",
       "      <td>1</td>\n",
       "      <td>1.0</td>\n",
       "      <td>2.0</td>\n",
       "      <td>2.0</td>\n",
       "      <td>2.0</td>\n",
       "      <td>2.0</td>\n",
       "      <td>1.0</td>\n",
       "    </tr>\n",
       "    <tr>\n",
       "      <th>3</th>\n",
       "      <td>BESC-246</td>\n",
       "      <td>BESC-246</td>\n",
       "      <td>False</td>\n",
       "      <td>False</td>\n",
       "      <td>False</td>\n",
       "      <td>-9</td>\n",
       "      <td>NaN</td>\n",
       "      <td>NaN</td>\n",
       "      <td>2.0</td>\n",
       "      <td>2.0</td>\n",
       "      <td>...</td>\n",
       "      <td>2</td>\n",
       "      <td>2.0</td>\n",
       "      <td>NaN</td>\n",
       "      <td>2</td>\n",
       "      <td>2.0</td>\n",
       "      <td>0.0</td>\n",
       "      <td>2.0</td>\n",
       "      <td>2.0</td>\n",
       "      <td>2.0</td>\n",
       "      <td>2.0</td>\n",
       "    </tr>\n",
       "    <tr>\n",
       "      <th>4</th>\n",
       "      <td>BESC-313</td>\n",
       "      <td>BESC-313</td>\n",
       "      <td>False</td>\n",
       "      <td>False</td>\n",
       "      <td>False</td>\n",
       "      <td>-9</td>\n",
       "      <td>2.0</td>\n",
       "      <td>1.0</td>\n",
       "      <td>2.0</td>\n",
       "      <td>1.0</td>\n",
       "      <td>...</td>\n",
       "      <td>2</td>\n",
       "      <td>2.0</td>\n",
       "      <td>2.0</td>\n",
       "      <td>2</td>\n",
       "      <td>2.0</td>\n",
       "      <td>2.0</td>\n",
       "      <td>2.0</td>\n",
       "      <td>2.0</td>\n",
       "      <td>2.0</td>\n",
       "      <td>2.0</td>\n",
       "    </tr>\n",
       "  </tbody>\n",
       "</table>\n",
       "<p>5 rows × 786075 columns</p>\n",
       "</div>"
      ],
      "text/plain": [
       "        FID       IID    PAT    MAT    SEX  PHENOTYPE  Chr01_8003_G  \\\n",
       "0  BESC-418  BESC-418  False  False  False         -9           1.0   \n",
       "1   BESC-52   BESC-52  False  False  False         -9           2.0   \n",
       "2   BESC-79   BESC-79  False  False  False         -9           2.0   \n",
       "3  BESC-246  BESC-246  False  False  False         -9           NaN   \n",
       "4  BESC-313  BESC-313  False  False  False         -9           2.0   \n",
       "\n",
       "   Chr01_11528_T  Chr01_13272_G  Chr01_20328_A  ...  Chr19_15910732_A  \\\n",
       "0            2.0            2.0            2.0  ...                 2   \n",
       "1            1.0            2.0            2.0  ...                 2   \n",
       "2            1.0            NaN            2.0  ...                 2   \n",
       "3            NaN            2.0            2.0  ...                 2   \n",
       "4            1.0            2.0            1.0  ...                 2   \n",
       "\n",
       "   Chr19_15918565_C  Chr19_15918732_T  Chr19_15919416_T  Chr19_15924615_G  \\\n",
       "0               2.0               2.0                 2               2.0   \n",
       "1               2.0               2.0                 2               2.0   \n",
       "2               2.0               2.0                 1               1.0   \n",
       "3               2.0               NaN                 2               2.0   \n",
       "4               2.0               2.0                 2               2.0   \n",
       "\n",
       "   Chr19_15924814_G  Chr19_15927152_C  Chr19_15931754_C  Chr19_15934532_G  \\\n",
       "0               2.0               2.0               2.0               1.0   \n",
       "1               2.0               2.0               2.0               2.0   \n",
       "2               2.0               2.0               2.0               2.0   \n",
       "3               0.0               2.0               2.0               2.0   \n",
       "4               2.0               2.0               2.0               2.0   \n",
       "\n",
       "   Chr19_15937702_C  \n",
       "0               2.0  \n",
       "1               2.0  \n",
       "2               1.0  \n",
       "3               2.0  \n",
       "4               2.0  \n",
       "\n",
       "[5 rows x 786075 columns]"
      ]
     },
     "execution_count": 4,
     "metadata": {},
     "output_type": "execute_result"
    }
   ],
   "source": [
    "df.head()"
   ]
  },
  {
   "cell_type": "markdown",
   "id": "0a28b4ec",
   "metadata": {},
   "source": [
    "Load the data we are trying to predict."
   ]
  },
  {
   "cell_type": "code",
   "execution_count": 5,
   "id": "9c1ad28a",
   "metadata": {},
   "outputs": [],
   "source": [
    "cloud_dens_orig = pd.read_csv(\"cloud_dens_yearAvg\", sep=\"\\t\", header=None)\n",
    "tmin_orig = pd.read_csv(\"tmin_yearAvg\", sep=\"\\t\", header=None)"
   ]
  },
  {
   "cell_type": "code",
   "execution_count": 6,
   "id": "4cd47747",
   "metadata": {},
   "outputs": [
    {
     "data": {
      "text/html": [
       "<div>\n",
       "<style scoped>\n",
       "    .dataframe tbody tr th:only-of-type {\n",
       "        vertical-align: middle;\n",
       "    }\n",
       "\n",
       "    .dataframe tbody tr th {\n",
       "        vertical-align: top;\n",
       "    }\n",
       "\n",
       "    .dataframe thead th {\n",
       "        text-align: right;\n",
       "    }\n",
       "</style>\n",
       "<table border=\"1\" class=\"dataframe\">\n",
       "  <thead>\n",
       "    <tr style=\"text-align: right;\">\n",
       "      <th></th>\n",
       "      <th>0</th>\n",
       "      <th>1</th>\n",
       "      <th>2</th>\n",
       "    </tr>\n",
       "  </thead>\n",
       "  <tbody>\n",
       "    <tr>\n",
       "      <th>0</th>\n",
       "      <td>BESC-418</td>\n",
       "      <td>BESC-418</td>\n",
       "      <td>0.693175</td>\n",
       "    </tr>\n",
       "    <tr>\n",
       "      <th>1</th>\n",
       "      <td>BESC-52</td>\n",
       "      <td>BESC-52</td>\n",
       "      <td>-0.025059</td>\n",
       "    </tr>\n",
       "    <tr>\n",
       "      <th>2</th>\n",
       "      <td>BESC-79</td>\n",
       "      <td>BESC-79</td>\n",
       "      <td>0.151925</td>\n",
       "    </tr>\n",
       "    <tr>\n",
       "      <th>3</th>\n",
       "      <td>BESC-246</td>\n",
       "      <td>BESC-246</td>\n",
       "      <td>-0.929824</td>\n",
       "    </tr>\n",
       "    <tr>\n",
       "      <th>4</th>\n",
       "      <td>BESC-313</td>\n",
       "      <td>BESC-313</td>\n",
       "      <td>-0.689698</td>\n",
       "    </tr>\n",
       "  </tbody>\n",
       "</table>\n",
       "</div>"
      ],
      "text/plain": [
       "          0         1         2\n",
       "0  BESC-418  BESC-418  0.693175\n",
       "1   BESC-52   BESC-52 -0.025059\n",
       "2   BESC-79   BESC-79  0.151925\n",
       "3  BESC-246  BESC-246 -0.929824\n",
       "4  BESC-313  BESC-313 -0.689698"
      ]
     },
     "execution_count": 6,
     "metadata": {},
     "output_type": "execute_result"
    }
   ],
   "source": [
    "cloud_dens_orig.head()"
   ]
  },
  {
   "cell_type": "code",
   "execution_count": 7,
   "id": "e8acdecb",
   "metadata": {},
   "outputs": [
    {
     "data": {
      "text/html": [
       "<div>\n",
       "<style scoped>\n",
       "    .dataframe tbody tr th:only-of-type {\n",
       "        vertical-align: middle;\n",
       "    }\n",
       "\n",
       "    .dataframe tbody tr th {\n",
       "        vertical-align: top;\n",
       "    }\n",
       "\n",
       "    .dataframe thead th {\n",
       "        text-align: right;\n",
       "    }\n",
       "</style>\n",
       "<table border=\"1\" class=\"dataframe\">\n",
       "  <thead>\n",
       "    <tr style=\"text-align: right;\">\n",
       "      <th></th>\n",
       "      <th>0</th>\n",
       "      <th>1</th>\n",
       "      <th>2</th>\n",
       "    </tr>\n",
       "  </thead>\n",
       "  <tbody>\n",
       "    <tr>\n",
       "      <th>0</th>\n",
       "      <td>BESC-418</td>\n",
       "      <td>BESC-418</td>\n",
       "      <td>0.377185</td>\n",
       "    </tr>\n",
       "    <tr>\n",
       "      <th>1</th>\n",
       "      <td>BESC-52</td>\n",
       "      <td>BESC-52</td>\n",
       "      <td>0.391660</td>\n",
       "    </tr>\n",
       "    <tr>\n",
       "      <th>2</th>\n",
       "      <td>BESC-79</td>\n",
       "      <td>BESC-79</td>\n",
       "      <td>0.490293</td>\n",
       "    </tr>\n",
       "    <tr>\n",
       "      <th>3</th>\n",
       "      <td>BESC-246</td>\n",
       "      <td>BESC-246</td>\n",
       "      <td>0.080623</td>\n",
       "    </tr>\n",
       "    <tr>\n",
       "      <th>4</th>\n",
       "      <td>BESC-313</td>\n",
       "      <td>BESC-313</td>\n",
       "      <td>0.467125</td>\n",
       "    </tr>\n",
       "  </tbody>\n",
       "</table>\n",
       "</div>"
      ],
      "text/plain": [
       "          0         1         2\n",
       "0  BESC-418  BESC-418  0.377185\n",
       "1   BESC-52   BESC-52  0.391660\n",
       "2   BESC-79   BESC-79  0.490293\n",
       "3  BESC-246  BESC-246  0.080623\n",
       "4  BESC-313  BESC-313  0.467125"
      ]
     },
     "execution_count": 7,
     "metadata": {},
     "output_type": "execute_result"
    }
   ],
   "source": [
    "tmin_orig.head()"
   ]
  },
  {
   "cell_type": "markdown",
   "id": "c153b2ac",
   "metadata": {},
   "source": [
    "### EDA"
   ]
  },
  {
   "cell_type": "markdown",
   "id": "daf1f690",
   "metadata": {},
   "source": [
    "First we have to check if we have the same length for X and Y.  Also its important to know that the FID its in the same order in the three dataframes."
   ]
  },
  {
   "cell_type": "code",
   "execution_count": 8,
   "id": "113d1bd9",
   "metadata": {},
   "outputs": [
    {
     "data": {
      "text/plain": [
       "True"
      ]
     },
     "execution_count": 8,
     "metadata": {},
     "output_type": "execute_result"
    }
   ],
   "source": [
    "tmin_orig[0].equals(cloud_dens_orig[0])"
   ]
  },
  {
   "cell_type": "code",
   "execution_count": 9,
   "id": "2e28b539",
   "metadata": {},
   "outputs": [
    {
     "data": {
      "text/plain": [
       "True"
      ]
     },
     "execution_count": 9,
     "metadata": {},
     "output_type": "execute_result"
    }
   ],
   "source": [
    "tmin_orig[0].equals(df[\"FID\"])"
   ]
  },
  {
   "cell_type": "markdown",
   "id": "078addb9",
   "metadata": {},
   "source": [
    "With that cleared, we now focus on the integrity of the response data."
   ]
  },
  {
   "cell_type": "code",
   "execution_count": 10,
   "id": "2cc8b1f8",
   "metadata": {},
   "outputs": [
    {
     "data": {
      "text/plain": [
       "0     0\n",
       "1     0\n",
       "2    82\n",
       "dtype: int64"
      ]
     },
     "execution_count": 10,
     "metadata": {},
     "output_type": "execute_result"
    }
   ],
   "source": [
    "tmin_orig.isna().sum()"
   ]
  },
  {
   "cell_type": "code",
   "execution_count": 11,
   "id": "ccb7a308",
   "metadata": {},
   "outputs": [
    {
     "data": {
      "text/plain": [
       "0.09436133486766399"
      ]
     },
     "execution_count": 11,
     "metadata": {},
     "output_type": "execute_result"
    }
   ],
   "source": [
    "tmin_orig.isna().sum()[2] / tmin_orig.shape[0] "
   ]
  },
  {
   "cell_type": "code",
   "execution_count": 12,
   "id": "0f908eff",
   "metadata": {},
   "outputs": [
    {
     "data": {
      "image/png": "[encoded data removed]",
      "text/plain": [
       "<Figure size 432x288 with 1 Axes>"
      ]
     },
     "metadata": {
      "needs_background": "light"
     },
     "output_type": "display_data"
    }
   ],
   "source": [
    "plt.hist(tmin_orig[2], bins=20);"
   ]
  },
  {
   "cell_type": "markdown",
   "id": "01b35dfa",
   "metadata": {},
   "source": [
    "We have 82 missing values of 869. This corresponds to 9.4% of our data. Also we know that the distribution of it its the bimodal type. Because of this we think that the correct thing to do is to drop the NAs."
   ]
  },
  {
   "cell_type": "markdown",
   "id": "63b2995e",
   "metadata": {},
   "source": [
    "Now lets check the cloud density dataframe."
   ]
  },
  {
   "cell_type": "code",
   "execution_count": 13,
   "id": "9bbfe4f2",
   "metadata": {},
   "outputs": [
    {
     "data": {
      "text/plain": [
       "0    0\n",
       "1    0\n",
       "2    0\n",
       "dtype: int64"
      ]
     },
     "execution_count": 13,
     "metadata": {},
     "output_type": "execute_result"
    }
   ],
   "source": [
    "cloud_dens_orig.isna().sum()"
   ]
  },
  {
   "cell_type": "code",
   "execution_count": 14,
   "id": "a54aa5a0",
   "metadata": {},
   "outputs": [
    {
     "data": {
      "image/png": "[encoded data removed]",
      "text/plain": [
       "<Figure size 432x288 with 1 Axes>"
      ]
     },
     "metadata": {
      "needs_background": "light"
     },
     "output_type": "display_data"
    }
   ],
   "source": [
    "plt.hist(cloud_dens_orig[2], bins=20);"
   ]
  },
  {
   "cell_type": "markdown",
   "id": "3c4fb762",
   "metadata": {},
   "source": [
    "For this dataframe we are not missing values."
   ]
  },
  {
   "cell_type": "markdown",
   "id": "99b6c8e1",
   "metadata": {},
   "source": [
    "Now lets check the dataframe that we are going to use for predicting the variables above."
   ]
  },
  {
   "cell_type": "code",
   "execution_count": 15,
   "id": "9e2e1201",
   "metadata": {},
   "outputs": [
    {
     "data": {
      "text/plain": [
       "count    786075.000000\n",
       "mean          1.650722\n",
       "std           2.205017\n",
       "min           0.000000\n",
       "25%           0.000000\n",
       "50%           1.000000\n",
       "75%           3.000000\n",
       "max           8.000000\n",
       "dtype: float64"
      ]
     },
     "execution_count": 15,
     "metadata": {},
     "output_type": "execute_result"
    }
   ],
   "source": [
    "df.isna().sum().describe()"
   ]
  },
  {
   "cell_type": "code",
   "execution_count": 16,
   "id": "6312bff8",
   "metadata": {},
   "outputs": [
    {
     "data": {
      "text/plain": [
       "423219"
      ]
     },
     "execution_count": 16,
     "metadata": {},
     "output_type": "execute_result"
    }
   ],
   "source": [
    "df.isna().sum()[df.isna().sum() > 0].shape[0]"
   ]
  },
  {
   "cell_type": "code",
   "execution_count": 17,
   "id": "256d6ce1",
   "metadata": {},
   "outputs": [
    {
     "data": {
      "text/plain": [
       "1297591"
      ]
     },
     "execution_count": 17,
     "metadata": {},
     "output_type": "execute_result"
    }
   ],
   "source": [
    "df.isna().sum().sum()"
   ]
  },
  {
   "cell_type": "code",
   "execution_count": 18,
   "id": "b4b008f7",
   "metadata": {},
   "outputs": [
    {
     "data": {
      "image/png": "[encoded data removed]",
      "text/plain": [
       "<Figure size 432x288 with 1 Axes>"
      ]
     },
     "metadata": {
      "needs_background": "light"
     },
     "output_type": "display_data"
    },
    {
     "data": {
      "image/png": "[encoded data removed]",
      "text/plain": [
       "<Figure size 432x288 with 1 Axes>"
      ]
     },
     "metadata": {
      "needs_background": "light"
     },
     "output_type": "display_data"
    },
    {
     "data": {
      "image/png": "[encoded data removed]",
      "text/plain": [
       "<Figure size 432x288 with 1 Axes>"
      ]
     },
     "metadata": {
      "needs_background": "light"
     },
     "output_type": "display_data"
    },
    {
     "data": {
      "image/png": "[encoded data removed]",
      "text/plain": [
       "<Figure size 432x288 with 1 Axes>"
      ]
     },
     "metadata": {
      "needs_background": "light"
     },
     "output_type": "display_data"
    }
   ],
   "source": [
    "sample = df.iloc[:,100:104]\n",
    "for i in sample:\n",
    "    sns.histplot(df[i],stat = 'density')\n",
    "    plt.title(i)\n",
    "    plt.show()"
   ]
  },
  {
   "cell_type": "markdown",
   "id": "55aec1b9",
   "metadata": {},
   "source": [
    "We have 423219 columns with missing values out of 786075. This corresponds to 53% of our columns. Also we have 1297591 Nans spread in our 869 rows, so we cannot drop the nas. Also looking at the distribution of some variables we prefer to get rid of the nans later in the modeling with some smart imputation."
   ]
  },
  {
   "cell_type": "markdown",
   "id": "56295668",
   "metadata": {},
   "source": [
    "### Modeling and evaluation"
   ]
  },
  {
   "cell_type": "markdown",
   "id": "18f07c69",
   "metadata": {},
   "source": [
    "First we need to set our X and Ys. As mentioned before, we are droping the Nas of the temperature dataframe. So we are going to drop this exact same rows for the dataframe we are using to predict temperature."
   ]
  },
  {
   "cell_type": "markdown",
   "id": "b441ace1",
   "metadata": {},
   "source": [
    "Working with all the dataframe takes a lot of computational resources and time. So for this homework we are taking a random sample of 10,000 columns of the dataframe. We also did some regressions with complete dataframe, but for this part of the code we are only using the sample. The results with the full dataframe are showed later."
   ]
  },
  {
   "cell_type": "code",
   "execution_count": 19,
   "id": "7242493f",
   "metadata": {},
   "outputs": [],
   "source": [
    "### WE USE THE X DATAFRAME ONLY USING THE GENOMAS ###\n",
    "X1 = df.drop(columns=[\"FID\", \"IID\", \"PAT\", \"MAT\", \"SEX\", \"PHENOTYPE\"]).sample(n=10000, axis=1)\n",
    "Y1 = tmin_orig[2]\n",
    "X2 = df.drop(columns=[\"FID\", \"IID\", \"PAT\", \"MAT\", \"SEX\", \"PHENOTYPE\"]).sample(n=10000, axis=1)\n",
    "Y2 = cloud_dens_orig[2]\n",
    "### DROP THE NANS FOR THE TEMPERATURE PREDICTION ###\n",
    "X1 = X1[~Y1.isna()]\n",
    "Y1 = Y1[~Y1.isna()]"
   ]
  },
  {
   "cell_type": "markdown",
   "id": "40529eeb",
   "metadata": {},
   "source": [
    "Our X1 and Y1 are the dataframes for the temperature regression and the X2 Y2 are for the cloud dataframe regression."
   ]
  },
  {
   "cell_type": "code",
   "execution_count": 20,
   "id": "8464b7f7",
   "metadata": {},
   "outputs": [
    {
     "data": {
      "text/plain": [
       "((787, 10000), (787,))"
      ]
     },
     "execution_count": 20,
     "metadata": {},
     "output_type": "execute_result"
    }
   ],
   "source": [
    "X1.shape, Y1.shape"
   ]
  },
  {
   "cell_type": "code",
   "execution_count": 21,
   "id": "e2cea668",
   "metadata": {},
   "outputs": [
    {
     "data": {
      "text/plain": [
       "((869, 10000), (869,))"
      ]
     },
     "execution_count": 21,
     "metadata": {},
     "output_type": "execute_result"
    }
   ],
   "source": [
    "X2.shape, Y2.shape"
   ]
  },
  {
   "cell_type": "code",
   "execution_count": 22,
   "id": "3dd6195b",
   "metadata": {},
   "outputs": [],
   "source": [
    "from sklearn.model_selection import train_test_split, GridSearchCV\n",
    "from sklearn.pipeline import Pipeline\n",
    "from sklearn.linear_model import Ridge\n",
    "from sklearn.ensemble import RandomForestRegressor\n",
    "from sklearn.linear_model import Lasso\n",
    "from sklearn.experimental import enable_iterative_imputer\n",
    "from sklearn.impute import SimpleImputer, IterativeImputer, KNNImputer\n",
    "from sklearn.metrics import r2_score, mean_squared_error"
   ]
  },
  {
   "cell_type": "code",
   "execution_count": 23,
   "id": "bde486f4",
   "metadata": {},
   "outputs": [],
   "source": [
    "# note: the following does NOT do a 60-20-20% train-valid-test split\n",
    "X1_train, X1_test, Y1_train, Y1_test = train_test_split(X1, Y1, test_size=0.2)\n",
    "X1_train, X1_valid, Y1_train, Y1_valid = train_test_split(X1_train, Y1_train, test_size=0.2)\n",
    "# note: the following does NOT do a 60-20-20% train-valid-test split\n",
    "X2_train, X2_test, Y2_train, Y2_test = train_test_split(X2, Y2, test_size=0.2)\n",
    "X2_train, X2_valid, Y2_train, Y2_valid = train_test_split(X2_train, Y2_train, test_size=0.2)"
   ]
  },
  {
   "cell_type": "code",
   "execution_count": 24,
   "id": "fdd58429",
   "metadata": {},
   "outputs": [
    {
     "data": {
      "text/plain": [
       "((503, 10000), (503,), (126, 10000), (126,), (158, 10000), (158,))"
      ]
     },
     "execution_count": 24,
     "metadata": {},
     "output_type": "execute_result"
    }
   ],
   "source": [
    "X1_train.shape, Y1_train.shape, X1_valid.shape, Y1_valid.shape, X1_test.shape, Y1_test.shape"
   ]
  },
  {
   "cell_type": "code",
   "execution_count": 25,
   "id": "e1629471",
   "metadata": {},
   "outputs": [
    {
     "data": {
      "text/plain": [
       "((556, 10000), (556,), (139, 10000), (139,), (174, 10000), (174,))"
      ]
     },
     "execution_count": 25,
     "metadata": {},
     "output_type": "execute_result"
    }
   ],
   "source": [
    "X2_train.shape, Y2_train.shape, X2_valid.shape, Y2_valid.shape, X2_test.shape, Y2_test.shape"
   ]
  },
  {
   "cell_type": "markdown",
   "id": "5aca7989",
   "metadata": {},
   "source": [
    "We think that the best the best strategy for clearing the nans is with KNN Imputer.\n",
    "KNN Imputer produces a more accurate estimate of missing values than using a single correlated feature because it is based upon correlations with all other features and not just one. Alternatively, if a feature with missing values has no correlates and knn doesn’t provide any useful information as to the missing values, averaging the nearest neighbor feature values should approximate the feature mean. KNN Imputer therefore imputes a more accurate estimate of missing values without requiring as much investigation into the source of missing values.\n",
    "\n",
    "Also we are using classic random forest to predict the data."
   ]
  },
  {
   "cell_type": "markdown",
   "id": "57acbd24",
   "metadata": {},
   "source": [
    "Prediction on temperature dataset."
   ]
  },
  {
   "cell_type": "code",
   "execution_count": 26,
   "id": "3b894765",
   "metadata": {},
   "outputs": [
    {
     "data": {
      "text/plain": [
       "Pipeline(steps=[('impute', KNNImputer()), ('rf', RandomForestRegressor())])"
      ]
     },
     "execution_count": 26,
     "metadata": {},
     "output_type": "execute_result"
    }
   ],
   "source": [
    "# imputer = SimpleImputer(strategy=\"most_frequent\")\n",
    "# imputer = IterativeImputer(max_iter=10, random_state=0)\n",
    "imputer = KNNImputer()\n",
    "pipe = Pipeline(steps=[(\"impute\", imputer), (\"rf\", RandomForestRegressor())])\n",
    "pipe.fit(X1_train, Y1_train)"
   ]
  },
  {
   "cell_type": "code",
   "execution_count": 27,
   "id": "4b899ad2",
   "metadata": {},
   "outputs": [
    {
     "data": {
      "text/plain": [
       "0.09116106247678601"
      ]
     },
     "execution_count": 27,
     "metadata": {},
     "output_type": "execute_result"
    }
   ],
   "source": [
    "Y1pred_valid = pipe.predict(X1_valid)\n",
    "mean_squared_error(Y1_valid, Y1pred_valid)"
   ]
  },
  {
   "cell_type": "code",
   "execution_count": 28,
   "id": "c38929e3",
   "metadata": {},
   "outputs": [
    {
     "data": {
      "text/plain": [
       "0.19931815081162585"
      ]
     },
     "execution_count": 28,
     "metadata": {},
     "output_type": "execute_result"
    }
   ],
   "source": [
    "r2_score(Y1_valid, Y1pred_valid)"
   ]
  },
  {
   "cell_type": "markdown",
   "id": "385d4359",
   "metadata": {},
   "source": [
    "Prediction on cloud dataset"
   ]
  },
  {
   "cell_type": "code",
   "execution_count": 29,
   "id": "f0f72232",
   "metadata": {},
   "outputs": [
    {
     "data": {
      "text/plain": [
       "Pipeline(steps=[('impute', KNNImputer()), ('rf', RandomForestRegressor())])"
      ]
     },
     "execution_count": 29,
     "metadata": {},
     "output_type": "execute_result"
    }
   ],
   "source": [
    "# imputer = SimpleImputer(strategy=\"most_frequent\")\n",
    "# imputer = IterativeImputer(max_iter=10, random_state=0)\n",
    "imputer = KNNImputer()\n",
    "pipe = Pipeline(steps=[(\"impute\", imputer), (\"rf\", RandomForestRegressor())])\n",
    "pipe.fit(X2_train, Y2_train)"
   ]
  },
  {
   "cell_type": "code",
   "execution_count": 30,
   "id": "5e0bdb36",
   "metadata": {},
   "outputs": [
    {
     "data": {
      "text/plain": [
       "0.7653579230010018"
      ]
     },
     "execution_count": 30,
     "metadata": {},
     "output_type": "execute_result"
    }
   ],
   "source": [
    "Y2pred_valid = pipe.predict(X2_valid)\n",
    "mean_squared_error(Y2_valid, Y2pred_valid)"
   ]
  },
  {
   "cell_type": "code",
   "execution_count": 31,
   "id": "a733e99a",
   "metadata": {},
   "outputs": [
    {
     "data": {
      "text/plain": [
       "0.32110483606481477"
      ]
     },
     "execution_count": 31,
     "metadata": {},
     "output_type": "execute_result"
    }
   ],
   "source": [
    "r2_score(Y2_valid, Y2pred_valid)"
   ]
  },
  {
   "cell_type": "markdown",
   "id": "af4eb49b",
   "metadata": {},
   "source": [
    "Trying different methos on both datasets."
   ]
  },
  {
   "cell_type": "code",
   "execution_count": 32,
   "id": "3ec68aa6",
   "metadata": {},
   "outputs": [],
   "source": [
    "imputers = {\n",
    "    #\"simple_imputer\": SimpleImputer(strategy=\"most_frequent\"),\n",
    "    \"knn_imputer\": KNNImputer(),\n",
    "    #\"iterative_imputer\": IterativeImputer(max_iter=10, random_state=0)\n",
    "}\n",
    "models = {\n",
    "    \"rf\": RandomForestRegressor(n_estimators=100, min_samples_leaf=5),\n",
    "    \"lasso\": Lasso(),\n",
    "    \"ridge\": Ridge()\n",
    "}\n",
    "\n",
    "pipes = {}\n",
    "for imputer_name, imputer in imputers.items():\n",
    "    for model_name, model in models.items():\n",
    "        pipe = Pipeline(steps=[(imputer_name, imputer), (model_name, model)])\n",
    "        pipe_name = imputer_name + \"+\" + model_name\n",
    "        pipes[pipe_name] = pipe"
   ]
  },
  {
   "cell_type": "code",
   "execution_count": 33,
   "id": "f8c68184",
   "metadata": {},
   "outputs": [
    {
     "name": "stdout",
     "output_type": "stream",
     "text": [
      "knn_imputer+rf\n",
      "knn_imputer+lasso\n",
      "knn_imputer+ridge\n"
     ]
    },
    {
     "data": {
      "text/plain": [
       "{'knn_imputer+rf': 0.26245849759607864,\n",
       " 'knn_imputer+lasso': -0.028615927206122826,\n",
       " 'knn_imputer+ridge': 0.5278744806454239}"
      ]
     },
     "execution_count": 33,
     "metadata": {},
     "output_type": "execute_result"
    }
   ],
   "source": [
    "### Temperature dataset\n",
    "valid_errs1 = {}\n",
    "for pipe_name, pipe in pipes.items():\n",
    "    print(pipe_name)\n",
    "    pipe.fit(X1_train, Y1_train)\n",
    "    valid_errs1[pipe_name] = pipe.score(X1_valid, Y1_valid)\n",
    "valid_errs1"
   ]
  },
  {
   "cell_type": "code",
   "execution_count": 34,
   "id": "01546731",
   "metadata": {},
   "outputs": [
    {
     "name": "stdout",
     "output_type": "stream",
     "text": [
      "knn_imputer+rf\n",
      "knn_imputer+lasso\n",
      "knn_imputer+ridge\n"
     ]
    },
    {
     "data": {
      "text/plain": [
       "{'knn_imputer+rf': 0.29798881561808277,\n",
       " 'knn_imputer+lasso': -0.0019706261896381694,\n",
       " 'knn_imputer+ridge': 0.6742356300729035}"
      ]
     },
     "execution_count": 34,
     "metadata": {},
     "output_type": "execute_result"
    }
   ],
   "source": [
    "### Cloud dataset\n",
    "valid_errs2 = {}\n",
    "for pipe_name, pipe in pipes.items():\n",
    "    print(pipe_name)\n",
    "    pipe.fit(X2_train, Y2_train)\n",
    "    valid_errs2[pipe_name] = pipe.score(X2_valid, Y2_valid)\n",
    "valid_errs2"
   ]
  },
  {
   "cell_type": "markdown",
   "id": "b4ae6fd6",
   "metadata": {},
   "source": [
    "Now adding CV parameters"
   ]
  },
  {
   "cell_type": "code",
   "execution_count": 37,
   "id": "8711234c",
   "metadata": {},
   "outputs": [],
   "source": [
    "cv_param_grid_all = {\n",
    "    \"rf__min_samples_leaf\": [1, 3, 5, 10],\n",
    "    \"lasso__alpha\": np.logspace(-2, 2, 10),\n",
    "    \"ridge__alpha\": np.logspace(-2, 2, 10),\n",
    "    # can also tune parameters in the imputation step\n",
    "    \"knn_imputer__n_neighbors\": [2, 5, 10]\n",
    "}"
   ]
  },
  {
   "cell_type": "code",
   "execution_count": 42,
   "id": "9be66e62",
   "metadata": {},
   "outputs": [
    {
     "name": "stdout",
     "output_type": "stream",
     "text": [
      "knn_imputer+rf\n",
      "knn_imputer+lasso\n",
      "knn_imputer+ridge\n",
      "{'knn_imputer__n_neighbors': 2, 'ridge__alpha': 0.01}\n"
     ]
    },
    {
     "data": {
      "text/plain": [
       "{'knn_imputer+rf': 0.25791902036819214,\n",
       " 'knn_imputer+lasso': 0.34355156001460807,\n",
       " 'knn_imputer+ridge': 0.5276151196699128}"
      ]
     },
     "execution_count": 42,
     "metadata": {},
     "output_type": "execute_result"
    }
   ],
   "source": [
    "### Temperature dataset\n",
    "valid_errs1 = {}\n",
    "for pipe_name, pipe in pipes.items():\n",
    "    print(pipe_name)\n",
    "    # get relevant CV parameters given the steps of the pipeline\n",
    "    cv_param_grid = {key: cv_param_grid_all[key] for key in cv_param_grid_all.keys() if key.startswith(tuple(pipe.named_steps.keys()))}\n",
    "    # run CV for pipeline\n",
    "    pipe_search = GridSearchCV(pipe, cv_param_grid, cv=5)\n",
    "    pipe_search.fit(X1_train, Y1_train)\n",
    "    valid_errs1[pipe_name] = pipe_search.score(X1_valid, Y1_valid)\n",
    "print(pipe_search.best_params_)\n",
    "valid_errs1"
   ]
  },
  {
   "cell_type": "code",
   "execution_count": 43,
   "id": "3a7c100a",
   "metadata": {},
   "outputs": [
    {
     "name": "stdout",
     "output_type": "stream",
     "text": [
      "knn_imputer+rf\n",
      "knn_imputer+lasso\n",
      "knn_imputer+ridge\n",
      "{'knn_imputer__n_neighbors': 5, 'ridge__alpha': 0.01}\n"
     ]
    },
    {
     "data": {
      "text/plain": [
       "{'knn_imputer+rf': 0.32467726013342724,\n",
       " 'knn_imputer+lasso': 0.4616729218894631,\n",
       " 'knn_imputer+ridge': 0.6742773702448335}"
      ]
     },
     "execution_count": 43,
     "metadata": {},
     "output_type": "execute_result"
    }
   ],
   "source": [
    "### Cloud dataset\n",
    "valid_errs2 = {}\n",
    "for pipe_name, pipe in pipes.items():\n",
    "    print(pipe_name)\n",
    "    # get relevant CV parameters given the steps of the pipeline\n",
    "    cv_param_grid = {key: cv_param_grid_all[key] for key in cv_param_grid_all.keys() if key.startswith(tuple(pipe.named_steps.keys()))}\n",
    "    # run CV for pipeline\n",
    "    pipe_search = GridSearchCV(pipe, cv_param_grid, cv=5)\n",
    "    pipe_search.fit(X2_train, Y2_train)\n",
    "    valid_errs2[pipe_name] = pipe_search.score(X2_valid, Y2_valid)\n",
    "print(pipe_search.best_params_)\n",
    "valid_errs2"
   ]
  },
  {
   "cell_type": "markdown",
   "id": "39c2137d",
   "metadata": {},
   "source": [
    "### Feature importance and correlations."
   ]
  },
  {
   "cell_type": "markdown",
   "id": "6d683a95",
   "metadata": {},
   "source": [
    "##### Most important features to predict temperature"
   ]
  },
  {
   "cell_type": "code",
   "execution_count": 58,
   "id": "fc8260af",
   "metadata": {},
   "outputs": [
    {
     "data": {
      "text/plain": [
       "Pipeline(steps=[('impute', KNNImputer()),\n",
       "                ('rf', RandomForestRegressor(min_samples_leaf=5))])"
      ]
     },
     "execution_count": 58,
     "metadata": {},
     "output_type": "execute_result"
    }
   ],
   "source": [
    "#Random Forest\n",
    "pipe = Pipeline(steps=[(\"impute\", imputer), (\"rf\", RandomForestRegressor(n_estimators=100, min_samples_leaf=5))])\n",
    "pipe.fit(X1_train, Y1_train)"
   ]
  },
  {
   "cell_type": "code",
   "execution_count": 59,
   "id": "66099dd5",
   "metadata": {},
   "outputs": [
    {
     "data": {
      "text/html": [
       "<div>\n",
       "<style scoped>\n",
       "    .dataframe tbody tr th:only-of-type {\n",
       "        vertical-align: middle;\n",
       "    }\n",
       "\n",
       "    .dataframe tbody tr th {\n",
       "        vertical-align: top;\n",
       "    }\n",
       "\n",
       "    .dataframe thead th {\n",
       "        text-align: right;\n",
       "    }\n",
       "</style>\n",
       "<table border=\"1\" class=\"dataframe\">\n",
       "  <thead>\n",
       "    <tr style=\"text-align: right;\">\n",
       "      <th></th>\n",
       "      <th>0</th>\n",
       "    </tr>\n",
       "  </thead>\n",
       "  <tbody>\n",
       "    <tr>\n",
       "      <th>Chr06_11447730_G</th>\n",
       "      <td>0.065463</td>\n",
       "    </tr>\n",
       "    <tr>\n",
       "      <th>Chr16_709033_G</th>\n",
       "      <td>0.040447</td>\n",
       "    </tr>\n",
       "    <tr>\n",
       "      <th>Chr04_21338770_T</th>\n",
       "      <td>0.016512</td>\n",
       "    </tr>\n",
       "    <tr>\n",
       "      <th>Chr16_947544_C</th>\n",
       "      <td>0.015751</td>\n",
       "    </tr>\n",
       "    <tr>\n",
       "      <th>Chr10_7947361_C</th>\n",
       "      <td>0.012245</td>\n",
       "    </tr>\n",
       "    <tr>\n",
       "      <th>...</th>\n",
       "      <td>...</td>\n",
       "    </tr>\n",
       "    <tr>\n",
       "      <th>Chr04_3176589_A</th>\n",
       "      <td>0.000000</td>\n",
       "    </tr>\n",
       "    <tr>\n",
       "      <th>Chr14_12379622_C</th>\n",
       "      <td>0.000000</td>\n",
       "    </tr>\n",
       "    <tr>\n",
       "      <th>Chr06_11977218_T</th>\n",
       "      <td>0.000000</td>\n",
       "    </tr>\n",
       "    <tr>\n",
       "      <th>Chr19_11913491_C</th>\n",
       "      <td>0.000000</td>\n",
       "    </tr>\n",
       "    <tr>\n",
       "      <th>Chr08_12585254_A</th>\n",
       "      <td>0.000000</td>\n",
       "    </tr>\n",
       "  </tbody>\n",
       "</table>\n",
       "<p>10000 rows × 1 columns</p>\n",
       "</div>"
      ],
      "text/plain": [
       "                         0\n",
       "Chr06_11447730_G  0.065463\n",
       "Chr16_709033_G    0.040447\n",
       "Chr04_21338770_T  0.016512\n",
       "Chr16_947544_C    0.015751\n",
       "Chr10_7947361_C   0.012245\n",
       "...                    ...\n",
       "Chr04_3176589_A   0.000000\n",
       "Chr14_12379622_C  0.000000\n",
       "Chr06_11977218_T  0.000000\n",
       "Chr19_11913491_C  0.000000\n",
       "Chr08_12585254_A  0.000000\n",
       "\n",
       "[10000 rows x 1 columns]"
      ]
     },
     "execution_count": 59,
     "metadata": {},
     "output_type": "execute_result"
    }
   ],
   "source": [
    "rf_1 =pd.DataFrame(pipe.steps[1][1].feature_importances_,np.array(X1_train.columns)).sort_values(by=0,ascending=False)\n",
    "#rf_1"
   ]
  },
  {
   "cell_type": "code",
   "execution_count": 60,
   "id": "74088544",
   "metadata": {},
   "outputs": [
    {
     "data": {
      "text/plain": [
       "Pipeline(steps=[('impute', KNNImputer()), ('Ridge', Ridge(alpha=0.01))])"
      ]
     },
     "execution_count": 60,
     "metadata": {},
     "output_type": "execute_result"
    }
   ],
   "source": [
    "#Ridge\n",
    "pipe = Pipeline(steps=[(\"impute\", imputer), (\"Ridge\", Ridge(alpha=0.01))])\n",
    "pipe.fit(X1_train, Y1_train)"
   ]
  },
  {
   "cell_type": "code",
   "execution_count": 61,
   "id": "c5b97255",
   "metadata": {},
   "outputs": [
    {
     "data": {
      "text/html": [
       "<div>\n",
       "<style scoped>\n",
       "    .dataframe tbody tr th:only-of-type {\n",
       "        vertical-align: middle;\n",
       "    }\n",
       "\n",
       "    .dataframe tbody tr th {\n",
       "        vertical-align: top;\n",
       "    }\n",
       "\n",
       "    .dataframe thead th {\n",
       "        text-align: right;\n",
       "    }\n",
       "</style>\n",
       "<table border=\"1\" class=\"dataframe\">\n",
       "  <thead>\n",
       "    <tr style=\"text-align: right;\">\n",
       "      <th></th>\n",
       "      <th>0</th>\n",
       "    </tr>\n",
       "  </thead>\n",
       "  <tbody>\n",
       "    <tr>\n",
       "      <th>Chr08_12983336_G</th>\n",
       "      <td>6.006072e-03</td>\n",
       "    </tr>\n",
       "    <tr>\n",
       "      <th>Chr03_10364265_A</th>\n",
       "      <td>5.662037e-03</td>\n",
       "    </tr>\n",
       "    <tr>\n",
       "      <th>Chr03_15164631_A</th>\n",
       "      <td>5.620078e-03</td>\n",
       "    </tr>\n",
       "    <tr>\n",
       "      <th>Chr13_3115456_A</th>\n",
       "      <td>5.619347e-03</td>\n",
       "    </tr>\n",
       "    <tr>\n",
       "      <th>Chr12_12929924_G</th>\n",
       "      <td>5.465610e-03</td>\n",
       "    </tr>\n",
       "    <tr>\n",
       "      <th>...</th>\n",
       "      <td>...</td>\n",
       "    </tr>\n",
       "    <tr>\n",
       "      <th>Chr08_9230205_A</th>\n",
       "      <td>8.192630e-07</td>\n",
       "    </tr>\n",
       "    <tr>\n",
       "      <th>Chr16_13896160_C</th>\n",
       "      <td>7.989365e-07</td>\n",
       "    </tr>\n",
       "    <tr>\n",
       "      <th>Chr14_6954948_T</th>\n",
       "      <td>3.111341e-07</td>\n",
       "    </tr>\n",
       "    <tr>\n",
       "      <th>Chr18_11957996_C</th>\n",
       "      <td>2.952834e-07</td>\n",
       "    </tr>\n",
       "    <tr>\n",
       "      <th>Chr01_17409584_C</th>\n",
       "      <td>1.931161e-07</td>\n",
       "    </tr>\n",
       "  </tbody>\n",
       "</table>\n",
       "<p>10000 rows × 1 columns</p>\n",
       "</div>"
      ],
      "text/plain": [
       "                             0\n",
       "Chr08_12983336_G  6.006072e-03\n",
       "Chr03_10364265_A  5.662037e-03\n",
       "Chr03_15164631_A  5.620078e-03\n",
       "Chr13_3115456_A   5.619347e-03\n",
       "Chr12_12929924_G  5.465610e-03\n",
       "...                        ...\n",
       "Chr08_9230205_A   8.192630e-07\n",
       "Chr16_13896160_C  7.989365e-07\n",
       "Chr14_6954948_T   3.111341e-07\n",
       "Chr18_11957996_C  2.952834e-07\n",
       "Chr01_17409584_C  1.931161e-07\n",
       "\n",
       "[10000 rows x 1 columns]"
      ]
     },
     "execution_count": 61,
     "metadata": {},
     "output_type": "execute_result"
    }
   ],
   "source": [
    "ridge_1 = abs(pd.DataFrame(pipe.steps[1][1].coef_,np.array(X1_train.columns))).sort_values(by=0,ascending=False)\n",
    "#ridge_1"
   ]
  },
  {
   "cell_type": "code",
   "execution_count": 74,
   "id": "a9af54b7",
   "metadata": {},
   "outputs": [
    {
     "data": {
      "text/plain": [
       "Pipeline(steps=[('impute', KNNImputer()), ('lasso', Lasso(alpha=0.01))])"
      ]
     },
     "execution_count": 74,
     "metadata": {},
     "output_type": "execute_result"
    }
   ],
   "source": [
    "#Lasso\n",
    "pipe = Pipeline(steps=[(\"impute\", imputer), (\"lasso\", Lasso(alpha=0.01))])\n",
    "pipe.fit(X1_train, Y1_train)"
   ]
  },
  {
   "cell_type": "code",
   "execution_count": 75,
   "id": "f4ff1125",
   "metadata": {},
   "outputs": [
    {
     "data": {
      "text/html": [
       "<div>\n",
       "<style scoped>\n",
       "    .dataframe tbody tr th:only-of-type {\n",
       "        vertical-align: middle;\n",
       "    }\n",
       "\n",
       "    .dataframe tbody tr th {\n",
       "        vertical-align: top;\n",
       "    }\n",
       "\n",
       "    .dataframe thead th {\n",
       "        text-align: right;\n",
       "    }\n",
       "</style>\n",
       "<table border=\"1\" class=\"dataframe\">\n",
       "  <thead>\n",
       "    <tr style=\"text-align: right;\">\n",
       "      <th></th>\n",
       "      <th>0</th>\n",
       "    </tr>\n",
       "  </thead>\n",
       "  <tbody>\n",
       "    <tr>\n",
       "      <th>Chr08_10952890_T</th>\n",
       "      <td>0.044195</td>\n",
       "    </tr>\n",
       "    <tr>\n",
       "      <th>Chr03_15164631_A</th>\n",
       "      <td>0.042685</td>\n",
       "    </tr>\n",
       "    <tr>\n",
       "      <th>Chr16_13511066_G</th>\n",
       "      <td>0.041210</td>\n",
       "    </tr>\n",
       "    <tr>\n",
       "      <th>Chr03_12607472_A</th>\n",
       "      <td>0.040670</td>\n",
       "    </tr>\n",
       "    <tr>\n",
       "      <th>Chr04_21338770_T</th>\n",
       "      <td>0.037899</td>\n",
       "    </tr>\n",
       "    <tr>\n",
       "      <th>...</th>\n",
       "      <td>...</td>\n",
       "    </tr>\n",
       "    <tr>\n",
       "      <th>Chr17_13942050_A</th>\n",
       "      <td>0.000000</td>\n",
       "    </tr>\n",
       "    <tr>\n",
       "      <th>Chr13_12241330_A</th>\n",
       "      <td>0.000000</td>\n",
       "    </tr>\n",
       "    <tr>\n",
       "      <th>Chr18_12730352_T</th>\n",
       "      <td>0.000000</td>\n",
       "    </tr>\n",
       "    <tr>\n",
       "      <th>Chr19_1525495_C</th>\n",
       "      <td>0.000000</td>\n",
       "    </tr>\n",
       "    <tr>\n",
       "      <th>Chr08_12585254_A</th>\n",
       "      <td>0.000000</td>\n",
       "    </tr>\n",
       "  </tbody>\n",
       "</table>\n",
       "<p>10000 rows × 1 columns</p>\n",
       "</div>"
      ],
      "text/plain": [
       "                         0\n",
       "Chr08_10952890_T  0.044195\n",
       "Chr03_15164631_A  0.042685\n",
       "Chr16_13511066_G  0.041210\n",
       "Chr03_12607472_A  0.040670\n",
       "Chr04_21338770_T  0.037899\n",
       "...                    ...\n",
       "Chr17_13942050_A  0.000000\n",
       "Chr13_12241330_A  0.000000\n",
       "Chr18_12730352_T  0.000000\n",
       "Chr19_1525495_C   0.000000\n",
       "Chr08_12585254_A  0.000000\n",
       "\n",
       "[10000 rows x 1 columns]"
      ]
     },
     "execution_count": 75,
     "metadata": {},
     "output_type": "execute_result"
    }
   ],
   "source": [
    "lasso_1 = abs(pd.DataFrame(pipe.steps[1][1].coef_,np.array(X1_train.columns))).sort_values(by=0,ascending=False)\n",
    "#lasso_1"
   ]
  },
  {
   "cell_type": "markdown",
   "id": "6c29d400",
   "metadata": {},
   "source": [
    "##### Most important features to predict cloud density"
   ]
  },
  {
   "cell_type": "code",
   "execution_count": 64,
   "id": "b1514b5f",
   "metadata": {},
   "outputs": [
    {
     "data": {
      "text/plain": [
       "Pipeline(steps=[('impute', KNNImputer()),\n",
       "                ('rf', RandomForestRegressor(min_samples_leaf=5))])"
      ]
     },
     "execution_count": 64,
     "metadata": {},
     "output_type": "execute_result"
    }
   ],
   "source": [
    "#Random Forest\n",
    "pipe = Pipeline(steps=[(\"impute\", imputer), (\"rf\", RandomForestRegressor(n_estimators=100, min_samples_leaf=5))])\n",
    "pipe.fit(X2_train, Y2_train)"
   ]
  },
  {
   "cell_type": "code",
   "execution_count": 65,
   "id": "7145a75e",
   "metadata": {},
   "outputs": [
    {
     "data": {
      "text/html": [
       "<div>\n",
       "<style scoped>\n",
       "    .dataframe tbody tr th:only-of-type {\n",
       "        vertical-align: middle;\n",
       "    }\n",
       "\n",
       "    .dataframe tbody tr th {\n",
       "        vertical-align: top;\n",
       "    }\n",
       "\n",
       "    .dataframe thead th {\n",
       "        text-align: right;\n",
       "    }\n",
       "</style>\n",
       "<table border=\"1\" class=\"dataframe\">\n",
       "  <thead>\n",
       "    <tr style=\"text-align: right;\">\n",
       "      <th></th>\n",
       "      <th>0</th>\n",
       "    </tr>\n",
       "  </thead>\n",
       "  <tbody>\n",
       "    <tr>\n",
       "      <th>Chr08_3419315_C</th>\n",
       "      <td>0.018286</td>\n",
       "    </tr>\n",
       "    <tr>\n",
       "      <th>Chr06_18427323_T</th>\n",
       "      <td>0.015218</td>\n",
       "    </tr>\n",
       "    <tr>\n",
       "      <th>Chr16_3031940_G</th>\n",
       "      <td>0.014684</td>\n",
       "    </tr>\n",
       "    <tr>\n",
       "      <th>Chr05_5545458_C</th>\n",
       "      <td>0.014530</td>\n",
       "    </tr>\n",
       "    <tr>\n",
       "      <th>Chr09_7205804_T</th>\n",
       "      <td>0.011175</td>\n",
       "    </tr>\n",
       "    <tr>\n",
       "      <th>...</th>\n",
       "      <td>...</td>\n",
       "    </tr>\n",
       "    <tr>\n",
       "      <th>Chr04_18040408_C</th>\n",
       "      <td>0.000000</td>\n",
       "    </tr>\n",
       "    <tr>\n",
       "      <th>Chr10_19332904_C</th>\n",
       "      <td>0.000000</td>\n",
       "    </tr>\n",
       "    <tr>\n",
       "      <th>Chr14_13529239_G</th>\n",
       "      <td>0.000000</td>\n",
       "    </tr>\n",
       "    <tr>\n",
       "      <th>Chr01_16707127_C</th>\n",
       "      <td>0.000000</td>\n",
       "    </tr>\n",
       "    <tr>\n",
       "      <th>Chr01_15232899_C</th>\n",
       "      <td>0.000000</td>\n",
       "    </tr>\n",
       "  </tbody>\n",
       "</table>\n",
       "<p>10000 rows × 1 columns</p>\n",
       "</div>"
      ],
      "text/plain": [
       "                         0\n",
       "Chr08_3419315_C   0.018286\n",
       "Chr06_18427323_T  0.015218\n",
       "Chr16_3031940_G   0.014684\n",
       "Chr05_5545458_C   0.014530\n",
       "Chr09_7205804_T   0.011175\n",
       "...                    ...\n",
       "Chr04_18040408_C  0.000000\n",
       "Chr10_19332904_C  0.000000\n",
       "Chr14_13529239_G  0.000000\n",
       "Chr01_16707127_C  0.000000\n",
       "Chr01_15232899_C  0.000000\n",
       "\n",
       "[10000 rows x 1 columns]"
      ]
     },
     "execution_count": 65,
     "metadata": {},
     "output_type": "execute_result"
    }
   ],
   "source": [
    "rf_2 =pd.DataFrame(pipe.steps[1][1].feature_importances_,np.array(X2_train.columns)).sort_values(by=0,ascending=False)\n",
    "#rf_2"
   ]
  },
  {
   "cell_type": "code",
   "execution_count": 66,
   "id": "9e08b01c",
   "metadata": {},
   "outputs": [
    {
     "data": {
      "text/plain": [
       "Pipeline(steps=[('impute', KNNImputer()), ('Ridge', Ridge(alpha=0.01))])"
      ]
     },
     "execution_count": 66,
     "metadata": {},
     "output_type": "execute_result"
    }
   ],
   "source": [
    "#Ridge\n",
    "pipe = Pipeline(steps=[(\"impute\", imputer), (\"Ridge\", Ridge(alpha=0.01))])\n",
    "pipe.fit(X2_train, Y2_train)"
   ]
  },
  {
   "cell_type": "code",
   "execution_count": 67,
   "id": "73e0796a",
   "metadata": {},
   "outputs": [
    {
     "data": {
      "text/html": [
       "<div>\n",
       "<style scoped>\n",
       "    .dataframe tbody tr th:only-of-type {\n",
       "        vertical-align: middle;\n",
       "    }\n",
       "\n",
       "    .dataframe tbody tr th {\n",
       "        vertical-align: top;\n",
       "    }\n",
       "\n",
       "    .dataframe thead th {\n",
       "        text-align: right;\n",
       "    }\n",
       "</style>\n",
       "<table border=\"1\" class=\"dataframe\">\n",
       "  <thead>\n",
       "    <tr style=\"text-align: right;\">\n",
       "      <th></th>\n",
       "      <th>0</th>\n",
       "    </tr>\n",
       "  </thead>\n",
       "  <tbody>\n",
       "    <tr>\n",
       "      <th>Chr04_18522628_T</th>\n",
       "      <td>1.445907e-02</td>\n",
       "    </tr>\n",
       "    <tr>\n",
       "      <th>Chr10_19373844_C</th>\n",
       "      <td>1.364123e-02</td>\n",
       "    </tr>\n",
       "    <tr>\n",
       "      <th>Chr09_7089458_A</th>\n",
       "      <td>1.361398e-02</td>\n",
       "    </tr>\n",
       "    <tr>\n",
       "      <th>Chr03_17471649_A</th>\n",
       "      <td>1.346790e-02</td>\n",
       "    </tr>\n",
       "    <tr>\n",
       "      <th>Chr05_5253394_A</th>\n",
       "      <td>1.339824e-02</td>\n",
       "    </tr>\n",
       "    <tr>\n",
       "      <th>...</th>\n",
       "      <td>...</td>\n",
       "    </tr>\n",
       "    <tr>\n",
       "      <th>Chr12_5888474_A</th>\n",
       "      <td>1.121814e-06</td>\n",
       "    </tr>\n",
       "    <tr>\n",
       "      <th>Chr18_15916107_T</th>\n",
       "      <td>1.052789e-06</td>\n",
       "    </tr>\n",
       "    <tr>\n",
       "      <th>Chr10_9282863_G</th>\n",
       "      <td>8.276009e-07</td>\n",
       "    </tr>\n",
       "    <tr>\n",
       "      <th>Chr03_12467275_T</th>\n",
       "      <td>6.579250e-07</td>\n",
       "    </tr>\n",
       "    <tr>\n",
       "      <th>Chr14_8636608_G</th>\n",
       "      <td>3.800347e-07</td>\n",
       "    </tr>\n",
       "  </tbody>\n",
       "</table>\n",
       "<p>10000 rows × 1 columns</p>\n",
       "</div>"
      ],
      "text/plain": [
       "                             0\n",
       "Chr04_18522628_T  1.445907e-02\n",
       "Chr10_19373844_C  1.364123e-02\n",
       "Chr09_7089458_A   1.361398e-02\n",
       "Chr03_17471649_A  1.346790e-02\n",
       "Chr05_5253394_A   1.339824e-02\n",
       "...                        ...\n",
       "Chr12_5888474_A   1.121814e-06\n",
       "Chr18_15916107_T  1.052789e-06\n",
       "Chr10_9282863_G   8.276009e-07\n",
       "Chr03_12467275_T  6.579250e-07\n",
       "Chr14_8636608_G   3.800347e-07\n",
       "\n",
       "[10000 rows x 1 columns]"
      ]
     },
     "execution_count": 67,
     "metadata": {},
     "output_type": "execute_result"
    }
   ],
   "source": [
    "ridge_2 = abs(pd.DataFrame(pipe.steps[1][1].coef_,np.array(X2_train.columns))).sort_values(by=0,ascending=False)\n",
    "#ridge_2"
   ]
  },
  {
   "cell_type": "code",
   "execution_count": 68,
   "id": "03ec344e",
   "metadata": {},
   "outputs": [
    {
     "data": {
      "text/plain": [
       "Pipeline(steps=[('impute', KNNImputer()), ('lasso', Lasso(alpha=0.01))])"
      ]
     },
     "execution_count": 68,
     "metadata": {},
     "output_type": "execute_result"
    }
   ],
   "source": [
    "#Lasso\n",
    "pipe = Pipeline(steps=[(\"impute\", imputer), (\"lasso\", Lasso(alpha=0.01))])\n",
    "pipe.fit(X2_train, Y2_train)"
   ]
  },
  {
   "cell_type": "code",
   "execution_count": 69,
   "id": "b836e75d",
   "metadata": {},
   "outputs": [
    {
     "data": {
      "text/html": [
       "<div>\n",
       "<style scoped>\n",
       "    .dataframe tbody tr th:only-of-type {\n",
       "        vertical-align: middle;\n",
       "    }\n",
       "\n",
       "    .dataframe tbody tr th {\n",
       "        vertical-align: top;\n",
       "    }\n",
       "\n",
       "    .dataframe thead th {\n",
       "        text-align: right;\n",
       "    }\n",
       "</style>\n",
       "<table border=\"1\" class=\"dataframe\">\n",
       "  <thead>\n",
       "    <tr style=\"text-align: right;\">\n",
       "      <th></th>\n",
       "      <th>0</th>\n",
       "    </tr>\n",
       "  </thead>\n",
       "  <tbody>\n",
       "    <tr>\n",
       "      <th>Chr03_17471649_A</th>\n",
       "      <td>0.126190</td>\n",
       "    </tr>\n",
       "    <tr>\n",
       "      <th>Chr12_4467079_G</th>\n",
       "      <td>0.122553</td>\n",
       "    </tr>\n",
       "    <tr>\n",
       "      <th>Chr16_7482389_A</th>\n",
       "      <td>0.113815</td>\n",
       "    </tr>\n",
       "    <tr>\n",
       "      <th>Chr05_5279555_C</th>\n",
       "      <td>0.113770</td>\n",
       "    </tr>\n",
       "    <tr>\n",
       "      <th>Chr15_11087292_C</th>\n",
       "      <td>0.101849</td>\n",
       "    </tr>\n",
       "    <tr>\n",
       "      <th>...</th>\n",
       "      <td>...</td>\n",
       "    </tr>\n",
       "    <tr>\n",
       "      <th>Chr13_13788174_T</th>\n",
       "      <td>0.000000</td>\n",
       "    </tr>\n",
       "    <tr>\n",
       "      <th>Chr08_10404544_C</th>\n",
       "      <td>0.000000</td>\n",
       "    </tr>\n",
       "    <tr>\n",
       "      <th>Chr06_16745003_T</th>\n",
       "      <td>0.000000</td>\n",
       "    </tr>\n",
       "    <tr>\n",
       "      <th>Chr17_13074610_G</th>\n",
       "      <td>0.000000</td>\n",
       "    </tr>\n",
       "    <tr>\n",
       "      <th>Chr01_15232899_C</th>\n",
       "      <td>0.000000</td>\n",
       "    </tr>\n",
       "  </tbody>\n",
       "</table>\n",
       "<p>10000 rows × 1 columns</p>\n",
       "</div>"
      ],
      "text/plain": [
       "                         0\n",
       "Chr03_17471649_A  0.126190\n",
       "Chr12_4467079_G   0.122553\n",
       "Chr16_7482389_A   0.113815\n",
       "Chr05_5279555_C   0.113770\n",
       "Chr15_11087292_C  0.101849\n",
       "...                    ...\n",
       "Chr13_13788174_T  0.000000\n",
       "Chr08_10404544_C  0.000000\n",
       "Chr06_16745003_T  0.000000\n",
       "Chr17_13074610_G  0.000000\n",
       "Chr01_15232899_C  0.000000\n",
       "\n",
       "[10000 rows x 1 columns]"
      ]
     },
     "execution_count": 69,
     "metadata": {},
     "output_type": "execute_result"
    }
   ],
   "source": [
    "lasso_2 = abs(pd.DataFrame(pipe.steps[1][1].coef_,np.array(X2_train.columns))).sort_values(by=0,ascending=False)\n",
    "#lasso_2"
   ]
  },
  {
   "cell_type": "code",
   "execution_count": 97,
   "id": "43d0a1d8",
   "metadata": {},
   "outputs": [],
   "source": [
    "rf_1.columns = [\"Importance RF1\"]\n",
    "rf_2.columns = [\"Importance RF2\"]\n",
    "lasso_1.columns = [\"Importance Lasso1\"]\n",
    "lasso_2.columns = [\"Importance Lasso2\"]\n",
    "ridge_1.columns = [\"Importance Ridge1\"]\n",
    "ridge_2.columns = [\"Importance Ridge2\"]\n",
    "###\n",
    "rf_1[\"Rank RF1\"] = np.arange(10000)\n",
    "rf_2[\"Rank RF2\"] = np.arange(10000)\n",
    "lasso_1[\"Rank Lasso1\"] = np.arange(10000)\n",
    "lasso_2[\"Rank Lasso2\"] = np.arange(10000)\n",
    "ridge_1[\"Rank Ridge1\"] = np.arange(10000)\n",
    "ridge_2[\"Rank Ridge2\"] = np.arange(10000)"
   ]
  },
  {
   "cell_type": "markdown",
   "id": "906a914e",
   "metadata": {},
   "source": [
    "### We are calling the most important features in random forest the variables that explains better the tree. For Lasso and Ridge the most important features are the variables with the absolute highers coefficients. We got ranked every single feature for both regressions in every method.\n",
    "\n",
    "###  For getting a more general idea of which chromosomes are more important, we came up with the idea of making a dataframe with the ranking of all features in all the methods and trying to find a way to search which chromosomes are the ones that represents in average the best all the methods. For this we just added the rank of every chromosome in the 3 methos and order from minimum to maximum. "
   ]
  },
  {
   "cell_type": "markdown",
   "id": "a5056988",
   "metadata": {},
   "source": [
    "##### Final feature importance for temperature"
   ]
  },
  {
   "cell_type": "code",
   "execution_count": 120,
   "id": "6a47240f",
   "metadata": {},
   "outputs": [
    {
     "data": {
      "text/html": [
       "<div>\n",
       "<style scoped>\n",
       "    .dataframe tbody tr th:only-of-type {\n",
       "        vertical-align: middle;\n",
       "    }\n",
       "\n",
       "    .dataframe tbody tr th {\n",
       "        vertical-align: top;\n",
       "    }\n",
       "\n",
       "    .dataframe thead th {\n",
       "        text-align: right;\n",
       "    }\n",
       "</style>\n",
       "<table border=\"1\" class=\"dataframe\">\n",
       "  <thead>\n",
       "    <tr style=\"text-align: right;\">\n",
       "      <th></th>\n",
       "      <th>Importance RF1</th>\n",
       "      <th>Rank RF1</th>\n",
       "      <th>Importance Ridge1</th>\n",
       "      <th>Rank Ridge1</th>\n",
       "      <th>Importance Lasso1</th>\n",
       "      <th>Rank Lasso1</th>\n",
       "      <th>Rank</th>\n",
       "    </tr>\n",
       "  </thead>\n",
       "  <tbody>\n",
       "    <tr>\n",
       "      <th>Chr07_627740_A</th>\n",
       "      <td>0.008558</td>\n",
       "      <td>10</td>\n",
       "      <td>0.004377</td>\n",
       "      <td>37</td>\n",
       "      <td>0.028051</td>\n",
       "      <td>16</td>\n",
       "      <td>63</td>\n",
       "    </tr>\n",
       "    <tr>\n",
       "      <th>Chr03_11253575_A</th>\n",
       "      <td>0.005454</td>\n",
       "      <td>23</td>\n",
       "      <td>0.004433</td>\n",
       "      <td>33</td>\n",
       "      <td>0.029385</td>\n",
       "      <td>15</td>\n",
       "      <td>71</td>\n",
       "    </tr>\n",
       "    <tr>\n",
       "      <th>Chr02_14125200_G</th>\n",
       "      <td>0.010885</td>\n",
       "      <td>7</td>\n",
       "      <td>0.003900</td>\n",
       "      <td>68</td>\n",
       "      <td>0.030265</td>\n",
       "      <td>11</td>\n",
       "      <td>86</td>\n",
       "    </tr>\n",
       "    <tr>\n",
       "      <th>Chr03_12607472_A</th>\n",
       "      <td>0.001551</td>\n",
       "      <td>103</td>\n",
       "      <td>0.005417</td>\n",
       "      <td>5</td>\n",
       "      <td>0.040670</td>\n",
       "      <td>3</td>\n",
       "      <td>111</td>\n",
       "    </tr>\n",
       "    <tr>\n",
       "      <th>Chr16_6017580_T</th>\n",
       "      <td>0.002815</td>\n",
       "      <td>50</td>\n",
       "      <td>0.004204</td>\n",
       "      <td>45</td>\n",
       "      <td>0.024520</td>\n",
       "      <td>25</td>\n",
       "      <td>120</td>\n",
       "    </tr>\n",
       "    <tr>\n",
       "      <th>...</th>\n",
       "      <td>...</td>\n",
       "      <td>...</td>\n",
       "      <td>...</td>\n",
       "      <td>...</td>\n",
       "      <td>...</td>\n",
       "      <td>...</td>\n",
       "      <td>...</td>\n",
       "    </tr>\n",
       "    <tr>\n",
       "      <th>Chr01_23075752_C</th>\n",
       "      <td>0.000000</td>\n",
       "      <td>9418</td>\n",
       "      <td>0.000032</td>\n",
       "      <td>9793</td>\n",
       "      <td>0.000000</td>\n",
       "      <td>9943</td>\n",
       "      <td>29154</td>\n",
       "    </tr>\n",
       "    <tr>\n",
       "      <th>Chr18_1323246_A</th>\n",
       "      <td>0.000000</td>\n",
       "      <td>9843</td>\n",
       "      <td>0.000036</td>\n",
       "      <td>9764</td>\n",
       "      <td>0.000000</td>\n",
       "      <td>9571</td>\n",
       "      <td>29178</td>\n",
       "    </tr>\n",
       "    <tr>\n",
       "      <th>Chr10_9103249_G</th>\n",
       "      <td>0.000000</td>\n",
       "      <td>9424</td>\n",
       "      <td>0.000012</td>\n",
       "      <td>9912</td>\n",
       "      <td>0.000000</td>\n",
       "      <td>9955</td>\n",
       "      <td>29291</td>\n",
       "    </tr>\n",
       "    <tr>\n",
       "      <th>Chr13_12925730_C</th>\n",
       "      <td>0.000000</td>\n",
       "      <td>9868</td>\n",
       "      <td>0.000016</td>\n",
       "      <td>9894</td>\n",
       "      <td>0.000000</td>\n",
       "      <td>9584</td>\n",
       "      <td>29346</td>\n",
       "    </tr>\n",
       "    <tr>\n",
       "      <th>Chr08_12585254_A</th>\n",
       "      <td>0.000000</td>\n",
       "      <td>9999</td>\n",
       "      <td>0.000029</td>\n",
       "      <td>9807</td>\n",
       "      <td>0.000000</td>\n",
       "      <td>9999</td>\n",
       "      <td>29805</td>\n",
       "    </tr>\n",
       "  </tbody>\n",
       "</table>\n",
       "<p>10000 rows × 7 columns</p>\n",
       "</div>"
      ],
      "text/plain": [
       "                  Importance RF1  Rank RF1  Importance Ridge1  Rank Ridge1  \\\n",
       "Chr07_627740_A          0.008558        10           0.004377           37   \n",
       "Chr03_11253575_A        0.005454        23           0.004433           33   \n",
       "Chr02_14125200_G        0.010885         7           0.003900           68   \n",
       "Chr03_12607472_A        0.001551       103           0.005417            5   \n",
       "Chr16_6017580_T         0.002815        50           0.004204           45   \n",
       "...                          ...       ...                ...          ...   \n",
       "Chr01_23075752_C        0.000000      9418           0.000032         9793   \n",
       "Chr18_1323246_A         0.000000      9843           0.000036         9764   \n",
       "Chr10_9103249_G         0.000000      9424           0.000012         9912   \n",
       "Chr13_12925730_C        0.000000      9868           0.000016         9894   \n",
       "Chr08_12585254_A        0.000000      9999           0.000029         9807   \n",
       "\n",
       "                  Importance Lasso1  Rank Lasso1   Rank  \n",
       "Chr07_627740_A             0.028051           16     63  \n",
       "Chr03_11253575_A           0.029385           15     71  \n",
       "Chr02_14125200_G           0.030265           11     86  \n",
       "Chr03_12607472_A           0.040670            3    111  \n",
       "Chr16_6017580_T            0.024520           25    120  \n",
       "...                             ...          ...    ...  \n",
       "Chr01_23075752_C           0.000000         9943  29154  \n",
       "Chr18_1323246_A            0.000000         9571  29178  \n",
       "Chr10_9103249_G            0.000000         9955  29291  \n",
       "Chr13_12925730_C           0.000000         9584  29346  \n",
       "Chr08_12585254_A           0.000000         9999  29805  \n",
       "\n",
       "[10000 rows x 7 columns]"
      ]
     },
     "execution_count": 120,
     "metadata": {},
     "output_type": "execute_result"
    }
   ],
   "source": [
    "feature_temp = rf_1.merge(ridge_1, left_index=True, right_index=True)\n",
    "feature_temp = feature_temp.merge(lasso_1,left_index=True, right_index=True)\n",
    "feature_temp['Rank'] = feature_temp['Rank RF1'] + feature_temp['Rank Ridge1'] + feature_temp['Rank Lasso1']\n",
    "feature_temp = feature_temp.sort_values(by ='Rank')\n",
    "feature_temp"
   ]
  },
  {
   "cell_type": "code",
   "execution_count": 127,
   "id": "bd815d01",
   "metadata": {},
   "outputs": [
    {
     "name": "stdout",
     "output_type": "stream",
     "text": [
      "For temperature, the 10 most relevant chromosomes along RF, Lasso and Ridge are:  ['Chr07_627740_A', 'Chr03_11253575_A', 'Chr02_14125200_G', 'Chr03_12607472_A', 'Chr16_6017580_T', 'Chr19_11545928_T', 'Chr07_12519179_A', 'Chr12_12929924_G', 'Chr18_3963411_T', 'Chr11_5939315_G']\n"
     ]
    }
   ],
   "source": [
    "print(\"For temperature, the 10 most relevant chromosomes along RF, Lasso and Ridge are: \", list(feature_temp.head(10).index))"
   ]
  },
  {
   "cell_type": "markdown",
   "id": "be595d00",
   "metadata": {},
   "source": [
    "##### Final feature importance for cloud density"
   ]
  },
  {
   "cell_type": "code",
   "execution_count": 121,
   "id": "c85e1f20",
   "metadata": {},
   "outputs": [
    {
     "data": {
      "text/html": [
       "<div>\n",
       "<style scoped>\n",
       "    .dataframe tbody tr th:only-of-type {\n",
       "        vertical-align: middle;\n",
       "    }\n",
       "\n",
       "    .dataframe tbody tr th {\n",
       "        vertical-align: top;\n",
       "    }\n",
       "\n",
       "    .dataframe thead th {\n",
       "        text-align: right;\n",
       "    }\n",
       "</style>\n",
       "<table border=\"1\" class=\"dataframe\">\n",
       "  <thead>\n",
       "    <tr style=\"text-align: right;\">\n",
       "      <th></th>\n",
       "      <th>Importance RF2</th>\n",
       "      <th>Rank RF2</th>\n",
       "      <th>Importance Ridge2</th>\n",
       "      <th>Rank Ridge2</th>\n",
       "      <th>Importance Lasso2</th>\n",
       "      <th>Rank Lasso2</th>\n",
       "      <th>Rank</th>\n",
       "    </tr>\n",
       "  </thead>\n",
       "  <tbody>\n",
       "    <tr>\n",
       "      <th>Chr16_7482389_A</th>\n",
       "      <td>0.005591</td>\n",
       "      <td>14</td>\n",
       "      <td>0.011179</td>\n",
       "      <td>25</td>\n",
       "      <td>0.113815</td>\n",
       "      <td>2</td>\n",
       "      <td>41</td>\n",
       "    </tr>\n",
       "    <tr>\n",
       "      <th>Chr14_15182127_G</th>\n",
       "      <td>0.010133</td>\n",
       "      <td>6</td>\n",
       "      <td>0.010678</td>\n",
       "      <td>32</td>\n",
       "      <td>0.098602</td>\n",
       "      <td>5</td>\n",
       "      <td>43</td>\n",
       "    </tr>\n",
       "    <tr>\n",
       "      <th>Chr15_7187539_C</th>\n",
       "      <td>0.007727</td>\n",
       "      <td>11</td>\n",
       "      <td>0.011789</td>\n",
       "      <td>20</td>\n",
       "      <td>0.073763</td>\n",
       "      <td>16</td>\n",
       "      <td>47</td>\n",
       "    </tr>\n",
       "    <tr>\n",
       "      <th>Chr15_11087292_C</th>\n",
       "      <td>0.004515</td>\n",
       "      <td>19</td>\n",
       "      <td>0.010745</td>\n",
       "      <td>29</td>\n",
       "      <td>0.101849</td>\n",
       "      <td>4</td>\n",
       "      <td>52</td>\n",
       "    </tr>\n",
       "    <tr>\n",
       "      <th>Chr18_4556782_A</th>\n",
       "      <td>0.008101</td>\n",
       "      <td>9</td>\n",
       "      <td>0.010934</td>\n",
       "      <td>28</td>\n",
       "      <td>0.057741</td>\n",
       "      <td>35</td>\n",
       "      <td>72</td>\n",
       "    </tr>\n",
       "    <tr>\n",
       "      <th>...</th>\n",
       "      <td>...</td>\n",
       "      <td>...</td>\n",
       "      <td>...</td>\n",
       "      <td>...</td>\n",
       "      <td>...</td>\n",
       "      <td>...</td>\n",
       "      <td>...</td>\n",
       "    </tr>\n",
       "    <tr>\n",
       "      <th>Chr02_13299754_G</th>\n",
       "      <td>0.000000</td>\n",
       "      <td>9804</td>\n",
       "      <td>0.000006</td>\n",
       "      <td>9980</td>\n",
       "      <td>0.000000</td>\n",
       "      <td>8760</td>\n",
       "      <td>28544</td>\n",
       "    </tr>\n",
       "    <tr>\n",
       "      <th>Chr10_19332904_C</th>\n",
       "      <td>0.000000</td>\n",
       "      <td>9996</td>\n",
       "      <td>0.000035</td>\n",
       "      <td>9905</td>\n",
       "      <td>0.000000</td>\n",
       "      <td>8663</td>\n",
       "      <td>28564</td>\n",
       "    </tr>\n",
       "    <tr>\n",
       "      <th>Chr03_18130615_C</th>\n",
       "      <td>0.000000</td>\n",
       "      <td>9970</td>\n",
       "      <td>0.000015</td>\n",
       "      <td>9956</td>\n",
       "      <td>0.000000</td>\n",
       "      <td>8646</td>\n",
       "      <td>28572</td>\n",
       "    </tr>\n",
       "    <tr>\n",
       "      <th>Chr18_15916107_T</th>\n",
       "      <td>0.000000</td>\n",
       "      <td>9954</td>\n",
       "      <td>0.000001</td>\n",
       "      <td>9996</td>\n",
       "      <td>0.000000</td>\n",
       "      <td>8629</td>\n",
       "      <td>28579</td>\n",
       "    </tr>\n",
       "    <tr>\n",
       "      <th>Chr14_2100203_T</th>\n",
       "      <td>0.000000</td>\n",
       "      <td>9986</td>\n",
       "      <td>0.000016</td>\n",
       "      <td>9952</td>\n",
       "      <td>0.000000</td>\n",
       "      <td>8681</td>\n",
       "      <td>28619</td>\n",
       "    </tr>\n",
       "  </tbody>\n",
       "</table>\n",
       "<p>10000 rows × 7 columns</p>\n",
       "</div>"
      ],
      "text/plain": [
       "                  Importance RF2  Rank RF2  Importance Ridge2  Rank Ridge2  \\\n",
       "Chr16_7482389_A         0.005591        14           0.011179           25   \n",
       "Chr14_15182127_G        0.010133         6           0.010678           32   \n",
       "Chr15_7187539_C         0.007727        11           0.011789           20   \n",
       "Chr15_11087292_C        0.004515        19           0.010745           29   \n",
       "Chr18_4556782_A         0.008101         9           0.010934           28   \n",
       "...                          ...       ...                ...          ...   \n",
       "Chr02_13299754_G        0.000000      9804           0.000006         9980   \n",
       "Chr10_19332904_C        0.000000      9996           0.000035         9905   \n",
       "Chr03_18130615_C        0.000000      9970           0.000015         9956   \n",
       "Chr18_15916107_T        0.000000      9954           0.000001         9996   \n",
       "Chr14_2100203_T         0.000000      9986           0.000016         9952   \n",
       "\n",
       "                  Importance Lasso2  Rank Lasso2   Rank  \n",
       "Chr16_7482389_A            0.113815            2     41  \n",
       "Chr14_15182127_G           0.098602            5     43  \n",
       "Chr15_7187539_C            0.073763           16     47  \n",
       "Chr15_11087292_C           0.101849            4     52  \n",
       "Chr18_4556782_A            0.057741           35     72  \n",
       "...                             ...          ...    ...  \n",
       "Chr02_13299754_G           0.000000         8760  28544  \n",
       "Chr10_19332904_C           0.000000         8663  28564  \n",
       "Chr03_18130615_C           0.000000         8646  28572  \n",
       "Chr18_15916107_T           0.000000         8629  28579  \n",
       "Chr14_2100203_T            0.000000         8681  28619  \n",
       "\n",
       "[10000 rows x 7 columns]"
      ]
     },
     "execution_count": 121,
     "metadata": {},
     "output_type": "execute_result"
    }
   ],
   "source": [
    "feature_cloud = rf_2.merge(ridge_2, left_index=True, right_index=True)\n",
    "feature_cloud = feature_cloud.merge(lasso_2,left_index=True, right_index=True)\n",
    "feature_cloud['Rank'] = feature_cloud['Rank RF2'] + feature_cloud['Rank Ridge2'] + feature_cloud['Rank Lasso2']\n",
    "feature_cloud = feature_cloud.sort_values(by ='Rank')\n",
    "feature_cloud"
   ]
  },
  {
   "cell_type": "code",
   "execution_count": 128,
   "id": "322cc48d",
   "metadata": {},
   "outputs": [
    {
     "name": "stdout",
     "output_type": "stream",
     "text": [
      "For cloud density, the 10 most relevant chromosomes along RF, Lasso and Ridge are:  ['Chr16_7482389_A', 'Chr14_15182127_G', 'Chr15_7187539_C', 'Chr15_11087292_C', 'Chr18_4556782_A', 'Chr05_5545458_C', 'Chr03_17471649_A', 'Chr08_3419315_C', 'Chr03_19290799_T', 'Chr10_16538027_G']\n"
     ]
    }
   ],
   "source": [
    "print(\"For cloud density, the 10 most relevant chromosomes along RF, Lasso and Ridge are: \", list(feature_cloud.head(10).index))"
   ]
  },
  {
   "cell_type": "markdown",
   "id": "4d614afc",
   "metadata": {},
   "source": [
    "#### Correlation Heatmaps between this variables"
   ]
  },
  {
   "cell_type": "code",
   "execution_count": 138,
   "id": "4c9596ce",
   "metadata": {},
   "outputs": [
    {
     "data": {
      "text/plain": [
       "<AxesSubplot:>"
      ]
     },
     "execution_count": 138,
     "metadata": {},
     "output_type": "execute_result"
    },
    {
     "data": {
      "image/png": "[encoded data removed]",
      "text/plain": [
       "<Figure size 432x288 with 2 Axes>"
      ]
     },
     "metadata": {
      "needs_background": "light"
     },
     "output_type": "display_data"
    }
   ],
   "source": [
    "sns.heatmap(X1_train[list(feature_temp.head(10).index)].corr())"
   ]
  },
  {
   "cell_type": "code",
   "execution_count": 139,
   "id": "1ab1101c",
   "metadata": {},
   "outputs": [
    {
     "data": {
      "text/plain": [
       "<AxesSubplot:>"
      ]
     },
     "execution_count": 139,
     "metadata": {},
     "output_type": "execute_result"
    },
    {
     "data": {
      "image/png": "[encoded data removed]",
      "text/plain": [
       "<Figure size 432x288 with 2 Axes>"
      ]
     },
     "metadata": {
      "needs_background": "light"
     },
     "output_type": "display_data"
    }
   ],
   "source": [
    "sns.heatmap(X2_train[list(feature_cloud.head(10).index)].corr())"
   ]
  },
  {
   "cell_type": "markdown",
   "id": "562076cd",
   "metadata": {},
   "source": [
    "# Short explanation and additional resources"
   ]
  },
  {
   "cell_type": "markdown",
   "id": "035cb171",
   "metadata": {},
   "source": [
    "For this project we got a huge database with a lot of chromosomes and with this we are trying to predict temperature and cloud density. We separated the big dataframe with the chromosomes into two, X1 and X2, also we made two arrays with the values that we are trying to predict, Y1 and Y2 (temperature and cloud density respectively). X1 and Y1 corresponds to Temperature prediction and X2 and Y2 corresponds to Cloud density prediction. \n",
    "\n",
    "Its important to mark a few things. First the dataframe was huge, running just random forest with the whole dataframe tooked a lot of time, so we decided to get a sample of 10,000 columns of the dataframe. Also its important to know that the Y1 had a bit of missing values, so we dropped this rows in the X1 dataframe. The rest of missing values are in X1 and X2, we got rid of this Nans values with KNN Imputer, above we explained our decission. After this, we separated the data into training, test, and validation for a better practice.\n",
    "\n",
    "Then we got the results which are very interesting. Ridge regression with an alpha of 0.01 and 5 folds was our best model. We expected this because since we are working with a chromosomes/genes database we cannot just eliminate the value of somes variables like Lasso does, Ridge tries to give all the variables some importance. \n",
    "\n",
    "Finally we wanted to take a look to the chromosomes that have more importance in both regressions. For this, we used the feature importance function that random forest already has, and also the coefficients for ridge and lasso. Doing a type of \"average\" we got the chromosomes that were more consistent in the three models, after that we looked at the correlation between this.\n",
    "\n",
    "Members of the team:\n",
    "\n",
    "-Luis Leopoldo Jimenez Perez\n",
    "\n",
    "-Alvaro David Lopez Chavez\n",
    "\n",
    "-Diego Paasche Portillo\n",
    "\n",
    "-Gil Herzberg Alperon\n",
    "\n",
    "Also credits to GSI Tiffany Tang, in this notebook we used a lot of code that we take from her walktrough."
   ]
  },
  {
   "cell_type": "markdown",
   "id": "1f1dfa6d",
   "metadata": {},
   "source": [
    "#### Prediction using random forest with the whole dataset. (Took so much time to run)"
   ]
  },
  {
   "cell_type": "code",
   "execution_count": 141,
   "id": "fb18ef37",
   "metadata": {},
   "outputs": [
    {
     "data": {
      "text/html": [
       "<img src=\"https://i.imgur.com/y1mrMNI.jpg\"/>"
      ],
      "text/plain": [
       "<IPython.core.display.Image object>"
      ]
     },
     "execution_count": 141,
     "metadata": {},
     "output_type": "execute_result"
    }
   ],
   "source": [
    "from IPython.display import Image\n",
    "from IPython.core.display import HTML \n",
    "Image(url= \"https://i.imgur.com/y1mrMNI.jpg\")"
   ]
  }
 ],
 "metadata": {
  "kernelspec": {
   "display_name": "Python 3",
   "language": "python",
   "name": "python3"
  },
  "language_info": {
   "codemirror_mode": {
    "name": "ipython",
    "version": 3
   },
   "file_extension": ".py",
   "mimetype": "text/x-python",
   "name": "python",
   "nbconvert_exporter": "python",
   "pygments_lexer": "ipython3",
   "version": "3.9.12"
  }
 },
 "nbformat": 4,
 "nbformat_minor": 5
}
